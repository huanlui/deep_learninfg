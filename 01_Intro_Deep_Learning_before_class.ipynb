{
  "nbformat": 4,
  "nbformat_minor": 0,
  "metadata": {
    "kernelspec": {
      "name": "python3",
      "display_name": "Python 3"
    },
    "language_info": {
      "codemirror_mode": {
        "name": "ipython",
        "version": 3
      },
      "file_extension": ".py",
      "mimetype": "text/x-python",
      "name": "python",
      "nbconvert_exporter": "python",
      "pygments_lexer": "ipython3",
      "version": "3.6.6"
    },
    "colab": {
      "name": "01_Intro_Deep_Learning_before_class.ipynb",
      "provenance": [],
      "toc_visible": true
    },
    "accelerator": "GPU"
  },
  "cells": [
    {
      "cell_type": "markdown",
      "metadata": {
        "id": "FdtU08-4VAWy",
        "colab_type": "text"
      },
      "source": [
        "# Introduction to Neural Networks and Deep Learning"
      ]
    },
    {
      "cell_type": "markdown",
      "metadata": {
        "id": "pkW-J-2iVAW0",
        "colab_type": "text"
      },
      "source": [
        "## What's the difference between Artificial Intelligence, Machine Learning and Deep Learning?\n",
        "\n",
        "Vamos a usar https://colab.research.google.com/ para abrir el notebook  . Hay que cambiar el entorno una vez dentro para usar GPU y darle a connect. \n",
        "\n",
        "AI engloba a ML, pero tiene mas cosas. Por ejemplo, robótica. \n",
        "\n",
        "Otros conceptos:\n",
        "\n",
        "**Representation learning**: que una máquina sea capaz de aprender de una representación. Por ejemplo, ver una imagen y representarla. Pero es difícil. Por ejemplo, tenemos dos imágenes de un 3 y a lo mejor no solapan en casi ningún pixel (si ves distribucion de distancia entre muchos 5, la media esta en 0.5, es decir, como si no se parecieran) El problema es que tenemos mcuho \"blanco\". Esto es el problema de la dimensionalidad. Con alta dimensiionalidad las distancias carecen de sentido.\n",
        "\n",
        "Ahí nace el **deep learning**. \n",
        "\n",
        "Esto es una ~~neurona~~ capa: func_activacion(W*x +b)\n",
        "\n",
        "X = vector de entrada\n",
        "W: pesos\n",
        "b = bias\n",
        "func_activacion: saca 1 u 0 en función de un umbral (para cada componente)\n",
        "\n",
        "Esta neuro es ya capaz de aproximar cualquier función. El problema es que para hacerlo necesita un número inmenso de pesos (W). Por ello el Deep Learning cayó en el olvido. Hinton seguía  investigando. Pero LeCunn propuso  las CNN, que cayeron de nuevo en ostracismo por no poder applicarlo técnicamenrte. Después hubo otor problea por la falta de dato. \n",
        "\n",
        "De 2000 a 2010 triunfan árboles, etc, que no necesitan tantos datos. Pero la gente de Hinton en 2012 acude a un concurso de detección de imagen (que por entcones de hacía por reglas). \n",
        "\n",
        "Veamos lo bien que hizo en 2012.\n",
        "\n",
        "\n",
        "![](https://cms.qz.com/wp-content/uploads/2017/07/image_classification_006.png?w=1240&h=1602&crop=1&strip=all&quality=75)\n",
        "\n",
        "En 2014 o 2015, DeepMind, startup de Londres. Sacan un paper con RL (reinforcement learning) para esto https://www.youtube.com/watch?v=V1eYniJ0Rnk. Ss decir, lo usan para reconocer la imagen de la que sacar si tiene éxito. \n",
        "\n",
        "Judea Pearl, que critica un poco el Deep LEarning, habrla de la escalera de la causalidad. Dice que hay tres estados:\n",
        "- El más básico: el de le representación. Ahí está el Deep Learning del Atari (representación), o los modelos estadístidicos que hemos visto hasta ahora. \n",
        "- El segundo: el de la intervención. Los RL, el marketing digital, las políticas económicas, los sistemas de recomendación. Por ejemplo muy útil en industria (por ejemplo, para tomar decisiones en una planta). Medicina va a ser una revolución, o marketing. Deep Learning nos ha ayudado a saltar a este segudo, pero en si en lo de Atari se dedicadaba a la representación. \n",
        "- El tercero: nivel de la imaginación. En el 2 nos queda muchísimo por entender, así que a este nivel no estamos cerca ni locos. Por ejemplo, entender causa y efecto. La física es capaz de entender cosas sin en el empirismo, sino mediante la racionalidad. \n",
        "\n",
        "En 2013 ya se pasó a usar por todos los equipos las NN. Ahora estamos por encima del humano. \n",
        "\n",
        "\n",
        "\n",
        "**Artificial Intelligence** (AI) is a very old field of research. It started in the 1950s; at that time, the pioneers in AI were convinced that they could make machines think. The initial approach was attempting to model intellectual tasks, and program those tasks in computers. That is, in the beginning, AI was about people *hard-coding* problems that the machine tried to solve. A good example of an early AI program is computer chess. Early AI computer chess programs had **lots of rules pre-conceived by the program designers**. So although the term refers to \"intelligence\", these programs were not \"intelligent\", but just a sophisticated set of rules.\n",
        "\n",
        "* The term *neural network* was also born at that time. The initial idea was trying to mimic how a *neuron* works (or in fact, how it was thought a neuron worked when the term was coined) in the brain. As in the case of *Artificial Intelligence*, please do not be fooled by the terms. A *neural network* is just a way to compute approximation to functions. A powerful and useful way, true. But it is not any kind of \"artificial brain\", or anything like that.\n",
        "\n",
        "This approach is now obsolete. We now know that some tasks are so complex, that we will never be able to pre-design a system to have a good performance on those tasks. Take the example of the game of Go. Any program designed by humans to play Go was dull and could not compete against professional players. The game is so hard that is just impossible for us as humans to conceived a good Go computer player.\n",
        "* https://en.wikipedia.org/wiki/Go_(game)\n",
        "\n",
        "The modern approach to solve this kind of problems involves the use of data. This is what the *learning* part of *Deep Learning* (and *Machine Learning*) refers to. **Learning from data**. So, with this brief introduction, we can say that *Artificial Intelligence* is a broad concept that includes *Machine Learning*, that includes *Deep Learning*. *Artificial Intelligence* does not necessarily means learning from data, but Machine Learning does. And *Deep Learning* is just doing *Machine Learning* with neural networks.\n",
        "\n",
        "![](https://github.com/huanlui/deep_learning/blob/master/imgs/01_ai_ml_dl.png?raw=1)\n",
        "\n",
        "We will see during this course what *learning* means, and what is a *neural network*. \n",
        "\n",
        "In the case of the game of Go, all attempts to design a good Go computer player failed, until Google DeepMind created AlphaGo, a system that *learned* to play Go based on data from previous games. AlphaGo is an example that learning from data can provide computer systems that are superior to any system pre-conceived by humans.\n",
        "* Find out more about AlphaGo by watching this utterly interesting movie: https://www.alphagomovie.com/\n",
        "\n",
        "Go es un juego imposible de resolver por fuerza bruta, más dificil que el ajedrez. \n",
        "\n",
        "In this course, we will give our first steps on *Deep Learning* and *Neural Networks*, to start creating systems that perform complex tasks by learning from data. Instead of attempting to derive the rules by ourselves, those rules will be inferred by a neural network based on the data we provide:\n",
        "\n",
        "![](https://github.com/huanlui/deep_learning/blob/master/imgs/02_rules_data.png?raw=1)"
      ]
    },
    {
      "cell_type": "markdown",
      "metadata": {
        "id": "oUYtS_fhVAW1",
        "colab_type": "text"
      },
      "source": [
        "# Deep Learning and Machine Learning: why is everyone now talking about Deep Learning?\n",
        "\n",
        "To create our system, we need data:\n",
        "* Input data points; e.g. images to recognize shapes inside the images.\n",
        "* Examples of expected output. The system will use these examples to learn from them. For the images above, we will need *labels* telling us what is in the image.\n",
        "\n",
        "The neural network will *learn* from this data. But in fact, what the network is doing is learning a *representation* of the data that makes the task much easier to solve.\n",
        "\n",
        "Let's see an example. We have the following input data (x,y coordinates for the points), and the labels of each item (the color of the point). We would like to obtain a model to separete the two classes of points:\n",
        "\n",
        "![](https://github.com/huanlui/deep_learning/blob/master/imgs/03_points.png?raw=1)\n",
        "\n",
        "How would you separate the points? In the current reference system, it can be a complex task. But if you change the reference system (*if you learn a new representation of the data*), the task becomes trivial:\n",
        "\n",
        "![](https://github.com/huanlui/deep_learning/blob/master/imgs/04_representation.png?raw=1)\n",
        "\n",
        "In Deep Learning, we learn **layers** of increasingly better representations. The **deep** in Deep Learning refers to the number of layers that we learn. Before Deep Learning, the models that we are going to see today were much shallower. The most typical form of the layer representations is **neural networks**. As we will see, **neural networks** are just chain of matrix operations -- arrays of 2 dimensions--, or more precisely, tensor operations, we will operate in dimensions higher than 2.\n",
        "\n",
        "\n",
        "* More about learning representations: https://www.bbvadata.com/not-deep-learning-learning-represent/"
      ]
    },
    {
      "cell_type": "markdown",
      "metadata": {
        "id": "fqGZi1hFVAW2",
        "colab_type": "text"
      },
      "source": [
        "## Neural Networks\n",
        "\n",
        "A neural network is just a stacked set of layers. Each layer is represented by a tensor, and it performs an affine transformation on each one of the layers.\n",
        "* A matrix is a 2D tensor\n",
        "* Affine transformation $\\vec{y} = W\\cdot\\vec{x} + \\vec{b}$, where $W$ is the weights tensor, $\\vec{x}$ is the input data, $\\vec{y}$ is the output data and $\\vec{b}$ is called the bias\n",
        "* $W$ and $\\vec{b}$ are model parameters that need to be found by training\n",
        "\n",
        "![](https://github.com/huanlui/deep_learning/blob/master/imgs/05_nn.png?raw=1)\n",
        "\n",
        "![](https://st1.ning.com/topology/rest/1.0/file/get/1140047167?profile=original)\n",
        "\n",
        "Note that this is a **linear operation**, therefore the result will be linear too. But the functions we want to learn are normally non-linear. How do we overcome this limiation? By using an **activation function**, that transforms the result from the linear operation. So, we actually do the following operation:\n",
        "\n",
        "$\\vec{y} = f\\left(W\\cdot\\vec{x} + \\vec{b}\\right)$\n",
        "\n",
        "There are several common activation functions, depending on the characteristics of the data and the kind of problem we want to solve. Here we will use the probably most often used activation function: **rectified linear unit**, or **relu** for friends:\n",
        "\n",
        "![Relu plot](https://upload.wikimedia.org/wikipedia/commons/6/6c/Rectifier_and_softplus_functions.svg)\n",
        "\n",
        "(image extracted from https://en.wikipedia.org/wiki/Rectifier_(neural_networks))\n",
        "\n",
        "Relu will add the non-linearity that we need to learn arbitrary functions.\n",
        "\n",
        "We can achieve the same with many other activation functions. See the documentation of Keras for details on the available activation functions:\n",
        " - https://keras.io/activations/\n",
        "\n",
        "\n",
        "Each layer learns a new representation of the input data, and after several layers, the representation will make it straightforward to solve the task (e.g. assiging a digit to an image of a digit).\n",
        "\n",
        "Until very recently, any attempt to train a deep neural network would not provide good results. Recent progresses (e.g. advances in hardware, new activation functions) make it possible to train very deep network, and therefore, solve problems that were unfeasible not long ago.\n",
        "\n",
        "### Training process\n",
        "\n",
        "The parameters of the network are initially randomly assigned. Then after each pass of the network, that is, after each *epoch*, the predictions of the network is compared against the true values, applying a *loss function*. This score is used to update the parameters of the network, with a process called **backpropagation**.\n",
        "* Backpropagation is a complex process that involves calculating the gradient of the parameters of the network. For more details see: https://en.wikipedia.org/wiki/Backpropagation\n",
        "* See also this excellent and visual explanation of how backpropagation works: https://google-developers.appspot.com/machine-learning/crash-course/backprop-scroll/\n",
        "\n",
        "The training process is just an optimization process, that is normally done using a gradient descent-based algorithm. The values of gradients are computed using the backpropagation algorithm. Each epoch will make the loss score to be lower, and the predictions to be better.\n",
        "\n",
        "![](https://github.com/huanlui/deep_learning/blob/master/imgs/06_optim.png?raw=1)\n",
        "\n",
        "In practice, we have to fine tune the number of epochs (and other parameters), until we obtain a result that is good enough for our purpose. In fact, if the number of epochs is too high, our model may **overfit** the training data. In that case, it will perform worsely when the model is exposed to data that it  has not seen previously.\n",
        "* Fine tuning the number of epochs, and other parameters (e.g. the number and shape of the layers) is known as **hyperparameters optimization**, or **hyperparameters tuning**\n",
        "* The parameters of the model are the $W$ and $b$ values of each layer, and those are determined by training.\n",
        "\n",
        "## Hyperparameters tuning\n",
        "\n",
        "In summary, when we are trying to obtain a deep learning model, the process that we will follow is:\n",
        "* Decide on the architecture of the network (number of layers, type of each layer, size of each layer)\n",
        "* Decide on the activation functions on each layer\n",
        "* Decide on the parameters related to the optimization process (e.g. learning rate)\n",
        "* Decide on the loss function that we will use\n",
        "* Decide on the metrics that we will use to evaluate the performance of the model\n",
        "* Decide on the training parameters (number of epochs, batch size)\n",
        "* Decide on how to split the data between training, validation and test sets.\n",
        "\n",
        "We obtain feedback for those decisions with the results of the training applied to the validation set. We train once, change some of the hyperparameters, train again, decide if that's better, and we keep going until we have found a model that is satisfactory enough for our purposes.\n",
        "\n",
        "After that, we finally evaluate the model on the test set."
      ]
    },
    {
      "cell_type": "markdown",
      "metadata": {
        "id": "_uJZoay_VAW2",
        "colab_type": "text"
      },
      "source": [
        "## Our first neural network\n",
        "\n",
        "Let's start with an easy example. We are going to produce some synthetic data, and will try to predict the function that generates the data. We will add some noise, to make the problem more difficult.\n",
        "\n",
        "The function we are going to try to predict is\n",
        "\n",
        "$\\displaystyle y = 3*x + 2$"
      ]
    },
    {
      "cell_type": "code",
      "metadata": {
        "id": "T107jlILVAW3",
        "colab_type": "code",
        "colab": {
          "base_uri": "https://localhost:8080/",
          "height": 51
        },
        "outputId": "e2b812d3-c747-4e67-93ac-d17817c492d8"
      },
      "source": [
        "%pylab inline\n",
        "plt.style.use('seaborn-talk')"
      ],
      "execution_count": 2,
      "outputs": [
        {
          "output_type": "stream",
          "text": [
            "Populating the interactive namespace from numpy and matplotlib\n",
            "Populating the interactive namespace from numpy and matplotlib\n"
          ],
          "name": "stdout"
        }
      ]
    },
    {
      "cell_type": "code",
      "metadata": {
        "id": "ePGYjlMvVAW7",
        "colab_type": "code",
        "colab": {}
      },
      "source": [
        "def plot_metric(history, metric):\n",
        "    history_dict = history.history\n",
        "    values = history_dict[metric]\n",
        "    if 'val_' + metric in history_dict.keys():  \n",
        "        val_values = history_dict['val_' + metric]\n",
        "\n",
        "    epochs = range(1, len(values) + 1)\n",
        "\n",
        "    if 'val_' + metric in history_dict.keys():  \n",
        "        plt.plot(epochs, val_values, label='Validation')\n",
        "    plt.semilogy(epochs, values, label='Training')\n",
        "\n",
        "    if 'val_' + metric in history_dict.keys():  \n",
        "        plt.title('Training and validation %s' % metric)\n",
        "    else:\n",
        "        plt.title('Training %s' % metric)\n",
        "    plt.xlabel('Epochs')\n",
        "    plt.ylabel(metric.capitalize())\n",
        "    plt.legend()\n",
        "\n",
        "    plt.show()  "
      ],
      "execution_count": 0,
      "outputs": []
    },
    {
      "cell_type": "markdown",
      "metadata": {
        "id": "RVGdWC2rVAW9",
        "colab_type": "text"
      },
      "source": [
        "### Preparar los datos"
      ]
    },
    {
      "cell_type": "markdown",
      "metadata": {
        "id": "uptZXkJODE37",
        "colab_type": "text"
      },
      "source": [
        "# New Section"
      ]
    },
    {
      "cell_type": "markdown",
      "metadata": {
        "id": "h6HPh1S5jPzV",
        "colab_type": "text"
      },
      "source": [
        "Creamos una linea recta para ver cómo la aprende. Lo más simple del mundo"
      ]
    },
    {
      "cell_type": "code",
      "metadata": {
        "id": "tjJ60X31VAW-",
        "colab_type": "code",
        "colab": {}
      },
      "source": [
        "x_train = np.linspace(0, 100, 1000)\n",
        "y_train = 3*x_train + 2\n",
        "\n",
        "x_test = np.linspace(100.01, 110, 100)\n",
        "y_test = 3*x_test + 2"
      ],
      "execution_count": 0,
      "outputs": []
    },
    {
      "cell_type": "code",
      "metadata": {
        "id": "c5HFMkryVAXA",
        "colab_type": "code",
        "colab": {
          "base_uri": "https://localhost:8080/",
          "height": 466
        },
        "outputId": "f246bead-35e0-4bf2-ce4d-818b9d2d6491"
      },
      "source": [
        "plot(x_train, y_train, 'b')\n",
        "plot(x_test, y_test, 'r')"
      ],
      "execution_count": 10,
      "outputs": [
        {
          "output_type": "execute_result",
          "data": {
            "text/plain": [
              "[<matplotlib.lines.Line2D at 0x7f9e9ead5d30>]"
            ]
          },
          "metadata": {
            "tags": []
          },
          "execution_count": 10
        },
        {
          "output_type": "display_data",
          "data": {
            "image/png": "[encoded data removed]",
            "text/plain": [
              "<Figure size 748.8x514.8 with 1 Axes>"
            ]
          },
          "metadata": {
            "tags": []
          }
        }
      ]
    },
    {
      "cell_type": "code",
      "metadata": {
        "id": "zAdt0lZHj3tr",
        "colab_type": "code",
        "colab": {
          "base_uri": "https://localhost:8080/",
          "height": 34
        },
        "outputId": "510c59e6-2b9a-4a3e-82e6-f977097f6391"
      },
      "source": [
        "import keras"
      ],
      "execution_count": 11,
      "outputs": [
        {
          "output_type": "stream",
          "text": [
            "Using TensorFlow backend.\n"
          ],
          "name": "stderr"
        }
      ]
    },
    {
      "cell_type": "markdown",
      "metadata": {
        "id": "uBm615ylkjxi",
        "colab_type": "text"
      },
      "source": [
        "Keras is an open-source neural-network library written in Python. It is capable of running on top of TensorFlow, Microsoft Cognitive Toolkit, Theano, or PlaidML.\n",
        "\n",
        "TensorFlow is a free and open-source software library for dataflow and differentiable programming across a range of tasks. It is a symbolic math library, and is also used for machine learning applications such as neural networks."
      ]
    },
    {
      "cell_type": "code",
      "metadata": {
        "id": "WOU6UF_Aj4Xz",
        "colab_type": "code",
        "colab": {}
      },
      "source": [
        "from keras import models\n",
        "from keras import layers"
      ],
      "execution_count": 0,
      "outputs": []
    },
    {
      "cell_type": "code",
      "metadata": {
        "id": "VpBjR1Tuj5lj",
        "colab_type": "code",
        "colab": {
          "base_uri": "https://localhost:8080/",
          "height": 221
        },
        "outputId": "fca75d87-10db-4d7d-dd58-931061bbd5b0"
      },
      "source": [
        "dimension_input_dim = 1 # la entrada es un número , un escalar\n",
        "dimension_output_dim = 1 # la salida igual, un escalar. \n",
        "first_hidden_layer_dim = 64 \n",
        "m = models.Sequential() # proque vamos a añadir varias capas\n",
        "\n",
        "hidden_layer = layers.Dense(units=first_hidden_layer_dim, input_shape=(dimension_input_dim,))\n",
        "output_layer = layers.Dense(units = dimension_output_dim)\n",
        "m.add(hidden_layer)\n",
        "m.add(output_layer)\n",
        "m.summary()"
      ],
      "execution_count": 17,
      "outputs": [
        {
          "output_type": "stream",
          "text": [
            "Model: \"sequential_4\"\n",
            "_________________________________________________________________\n",
            "Layer (type)                 Output Shape              Param #   \n",
            "=================================================================\n",
            "dense_6 (Dense)              (None, 64)                128       \n",
            "_________________________________________________________________\n",
            "dense_7 (Dense)              (None, 1)                 65        \n",
            "=================================================================\n",
            "Total params: 193\n",
            "Trainable params: 193\n",
            "Non-trainable params: 0\n",
            "_________________________________________________________________\n"
          ],
          "name": "stdout"
        }
      ]
    },
    {
      "cell_type": "markdown",
      "metadata": {
        "id": "pf-IEe_xlCgq",
        "colab_type": "text"
      },
      "source": [
        "- Las capas son Dense porque conecta todo con todo. Por ejemplom, las CNN no hacen eso\n",
        "- Params son el número de pesos y biases. Sale 128 porque el W tiene que tener dimesnion 64,1 para que la salida sea 64. Lo mismo el biases. \n",
        "\n",
        "Vamos a crear otro con más capas:\n",
        "  1-128-64-32-16-1. \n",
        "  Usaremos relu para la activacion"
      ]
    },
    {
      "cell_type": "code",
      "metadata": {
        "id": "PXD_r575j6HD",
        "colab_type": "code",
        "colab": {
          "base_uri": "https://localhost:8080/",
          "height": 323
        },
        "outputId": "91fc9196-80e3-4fdb-a7c3-5025a0357bac"
      },
      "source": [
        "nn = models.Sequential()\n",
        "\n",
        "nn.add(layers.Dense(units=128, input_shape=(1,), activation='relu'))\n",
        "nn.add(layers.Dense(units=64, activation='relu' ))\n",
        "nn.add(layers.Dense(units=32, activation='relu' ))\n",
        "nn.add(layers.Dense(units=16, activation='relu' ))\n",
        "nn.add(layers.Dense(units=1, activation='relu' ))\n",
        "\n",
        "nn.summary()"
      ],
      "execution_count": 47,
      "outputs": [
        {
          "output_type": "stream",
          "text": [
            "Model: \"sequential_10\"\n",
            "_________________________________________________________________\n",
            "Layer (type)                 Output Shape              Param #   \n",
            "=================================================================\n",
            "dense_21 (Dense)             (None, 128)               256       \n",
            "_________________________________________________________________\n",
            "dense_22 (Dense)             (None, 64)                8256      \n",
            "_________________________________________________________________\n",
            "dense_23 (Dense)             (None, 32)                2080      \n",
            "_________________________________________________________________\n",
            "dense_24 (Dense)             (None, 16)                528       \n",
            "_________________________________________________________________\n",
            "dense_25 (Dense)             (None, 1)                 17        \n",
            "=================================================================\n",
            "Total params: 11,137\n",
            "Trainable params: 11,137\n",
            "Non-trainable params: 0\n",
            "_________________________________________________________________\n"
          ],
          "name": "stdout"
        }
      ]
    },
    {
      "cell_type": "markdown",
      "metadata": {
        "id": "_u2O3Pz90-3N",
        "colab_type": "text"
      },
      "source": [
        "Ahora vamos a compilar y optimizar. Como métricq vamos a usar el RMSI, el error cuadrático medio. Por cada muestra, lo que se hace por dentro es ver el error, y una vez visto ese error para esa muestra, se hace el back propagation, que es reajustar pesos apra que esa muestra tenga menor error. Eso lo hace mediante stocatic gradient descent. Como son muchas muestras, se hace en lugar de muestra a muestra, se hace por conjuntos de muestras, batch. El optimizer es el que hace esto. \n",
        "\n"
      ]
    },
    {
      "cell_type": "code",
      "metadata": {
        "id": "6HvqCcDcj6cj",
        "colab_type": "code",
        "colab": {}
      },
      "source": [
        "from keras import optimizers\n",
        "from keras import losses #esto para las funciones de coste\n",
        "from keras import metrics\n",
        "\n",
        "nn.compile(optimizer=optimizers.rmsprop(), loss=losses.mean_squared_error, metrics=[metrics.mae])\n"
      ],
      "execution_count": 0,
      "outputs": []
    },
    {
      "cell_type": "markdown",
      "metadata": {
        "id": "QSOhIrhM4HjG",
        "colab_type": "text"
      },
      "source": [
        "Vamos a entrenar.\n",
        "\n",
        "Si aumentamos mucho el batch size (el recomienda siempre por debajo de 500, el gradiente se parece mucho al gradiente real, lo qu hara que si la funcion de coste tiene muchos minimos locales, nos quedamos en ese minimo local . El estocastico te consigue sacar puntos de inflexión, puntos de ensilladura y minimos locales.\n",
        "\n",
        "Y tengamos en cuenta que las funciones de coste de las NN son:\n",
        "\n",
        "![](https://www.cs.umd.edu/~tomg/img/landscapes/noshort.png)\n",
        "\n",
        "Ver https://www.cs.umd.edu/~tomg/projects/landscapes/\n",
        "\n",
        "Epocs=el numero de vueltas que da con los datos\n",
        "\n",
        "Entonces,como tenemos 1000 muestras, como tenemos 100 de batch size, haremos 10 iteraciones por epoch. Como tenemos 80 epochs, haremos 800 iteraciones\n",
        "\n",
        "Remember. Los datos se suelen dividir en:\n",
        "train=para entrenar parametros.\n",
        "test=para ver si va bien\n",
        "validation=para comprobar hiperparametros (un hiperparmaetro es en si el modelo que elegimos, o en caso de nn, el numero de capas)\n",
        "\n",
        "El split de fit sirve para coger qué datos coge para validacion. si pones 0.2 te coge el 20% del FINAL. Hayq ue randonimzar a mano. "
      ]
    },
    {
      "cell_type": "code",
      "metadata": {
        "id": "4Bu92xdFj6pT",
        "colab_type": "code",
        "colab": {
          "base_uri": "https://localhost:8080/",
          "height": 1000
        },
        "outputId": "9c255f20-e6db-4793-c715-af4ccd48acac"
      },
      "source": [
        "history = nn.fit(x_train,y_train, batch_size=100,epochs=80,validation_split=0.2)"
      ],
      "execution_count": 49,
      "outputs": [
        {
          "output_type": "stream",
          "text": [
            "Train on 800 samples, validate on 200 samples\n",
            "Epoch 1/80\n",
            "800/800 [==============================] - 0s 404us/step - loss: 19686.2803 - mean_absolute_error: 121.9700 - val_loss: 74349.9531 - val_mean_absolute_error: 272.1201\n",
            "Epoch 2/80\n",
            "800/800 [==============================] - 0s 52us/step - loss: 19686.2808 - mean_absolute_error: 121.9700 - val_loss: 74349.9531 - val_mean_absolute_error: 272.1201\n",
            "Epoch 3/80\n",
            "800/800 [==============================] - 0s 52us/step - loss: 19686.2799 - mean_absolute_error: 121.9700 - val_loss: 74349.9531 - val_mean_absolute_error: 272.1201\n",
            "Epoch 4/80\n",
            "800/800 [==============================] - 0s 56us/step - loss: 19686.2805 - mean_absolute_error: 121.9700 - val_loss: 74349.9531 - val_mean_absolute_error: 272.1201\n",
            "Epoch 5/80\n",
            "800/800 [==============================] - 0s 56us/step - loss: 19686.2806 - mean_absolute_error: 121.9700 - val_loss: 74349.9531 - val_mean_absolute_error: 272.1201\n",
            "Epoch 6/80\n",
            "800/800 [==============================] - 0s 55us/step - loss: 19686.2809 - mean_absolute_error: 121.9700 - val_loss: 74349.9531 - val_mean_absolute_error: 272.1201\n",
            "Epoch 7/80\n",
            "800/800 [==============================] - 0s 58us/step - loss: 19686.2808 - mean_absolute_error: 121.9700 - val_loss: 74349.9531 - val_mean_absolute_error: 272.1201\n",
            "Epoch 8/80\n",
            "800/800 [==============================] - 0s 54us/step - loss: 19686.2806 - mean_absolute_error: 121.9700 - val_loss: 74349.9531 - val_mean_absolute_error: 272.1201\n",
            "Epoch 9/80\n",
            "800/800 [==============================] - 0s 55us/step - loss: 19686.2798 - mean_absolute_error: 121.9700 - val_loss: 74349.9531 - val_mean_absolute_error: 272.1201\n",
            "Epoch 10/80\n",
            "800/800 [==============================] - 0s 49us/step - loss: 19686.2800 - mean_absolute_error: 121.9700 - val_loss: 74349.9531 - val_mean_absolute_error: 272.1201\n",
            "Epoch 11/80\n",
            "800/800 [==============================] - 0s 53us/step - loss: 19686.2808 - mean_absolute_error: 121.9700 - val_loss: 74349.9531 - val_mean_absolute_error: 272.1201\n",
            "Epoch 12/80\n",
            "800/800 [==============================] - 0s 59us/step - loss: 19686.2803 - mean_absolute_error: 121.9700 - val_loss: 74349.9531 - val_mean_absolute_error: 272.1201\n",
            "Epoch 13/80\n",
            "800/800 [==============================] - 0s 60us/step - loss: 19686.2808 - mean_absolute_error: 121.9700 - val_loss: 74349.9531 - val_mean_absolute_error: 272.1201\n",
            "Epoch 14/80\n",
            "800/800 [==============================] - 0s 57us/step - loss: 19686.2805 - mean_absolute_error: 121.9700 - val_loss: 74349.9531 - val_mean_absolute_error: 272.1201\n",
            "Epoch 15/80\n",
            "800/800 [==============================] - 0s 52us/step - loss: 19686.2803 - mean_absolute_error: 121.9700 - val_loss: 74349.9531 - val_mean_absolute_error: 272.1201\n",
            "Epoch 16/80\n",
            "800/800 [==============================] - 0s 74us/step - loss: 19686.2808 - mean_absolute_error: 121.9700 - val_loss: 74349.9531 - val_mean_absolute_error: 272.1201\n",
            "Epoch 17/80\n",
            "800/800 [==============================] - 0s 58us/step - loss: 19686.2800 - mean_absolute_error: 121.9700 - val_loss: 74349.9531 - val_mean_absolute_error: 272.1201\n",
            "Epoch 18/80\n",
            "800/800 [==============================] - 0s 77us/step - loss: 19686.2808 - mean_absolute_error: 121.9700 - val_loss: 74349.9531 - val_mean_absolute_error: 272.1201\n",
            "Epoch 19/80\n",
            "800/800 [==============================] - 0s 55us/step - loss: 19686.2804 - mean_absolute_error: 121.9700 - val_loss: 74349.9531 - val_mean_absolute_error: 272.1201\n",
            "Epoch 20/80\n",
            "800/800 [==============================] - 0s 49us/step - loss: 19686.2798 - mean_absolute_error: 121.9700 - val_loss: 74349.9531 - val_mean_absolute_error: 272.1201\n",
            "Epoch 21/80\n",
            "800/800 [==============================] - 0s 55us/step - loss: 19686.2803 - mean_absolute_error: 121.9700 - val_loss: 74349.9531 - val_mean_absolute_error: 272.1201\n",
            "Epoch 22/80\n",
            "800/800 [==============================] - 0s 58us/step - loss: 19686.2805 - mean_absolute_error: 121.9700 - val_loss: 74349.9531 - val_mean_absolute_error: 272.1201\n",
            "Epoch 23/80\n",
            "800/800 [==============================] - 0s 54us/step - loss: 19686.2810 - mean_absolute_error: 121.9700 - val_loss: 74349.9531 - val_mean_absolute_error: 272.1201\n",
            "Epoch 24/80\n",
            "800/800 [==============================] - 0s 52us/step - loss: 19686.2805 - mean_absolute_error: 121.9700 - val_loss: 74349.9531 - val_mean_absolute_error: 272.1201\n",
            "Epoch 25/80\n",
            "800/800 [==============================] - 0s 51us/step - loss: 19686.2800 - mean_absolute_error: 121.9700 - val_loss: 74349.9531 - val_mean_absolute_error: 272.1201\n",
            "Epoch 26/80\n",
            "800/800 [==============================] - 0s 50us/step - loss: 19686.2808 - mean_absolute_error: 121.9700 - val_loss: 74349.9531 - val_mean_absolute_error: 272.1201\n",
            "Epoch 27/80\n",
            "800/800 [==============================] - 0s 51us/step - loss: 19686.2803 - mean_absolute_error: 121.9700 - val_loss: 74349.9531 - val_mean_absolute_error: 272.1201\n",
            "Epoch 28/80\n",
            "800/800 [==============================] - 0s 54us/step - loss: 19686.2798 - mean_absolute_error: 121.9700 - val_loss: 74349.9531 - val_mean_absolute_error: 272.1201\n",
            "Epoch 29/80\n",
            "800/800 [==============================] - 0s 50us/step - loss: 19686.2805 - mean_absolute_error: 121.9700 - val_loss: 74349.9531 - val_mean_absolute_error: 272.1201\n",
            "Epoch 30/80\n",
            "800/800 [==============================] - 0s 59us/step - loss: 19686.2810 - mean_absolute_error: 121.9700 - val_loss: 74349.9531 - val_mean_absolute_error: 272.1201\n",
            "Epoch 31/80\n",
            "800/800 [==============================] - 0s 55us/step - loss: 19686.2803 - mean_absolute_error: 121.9700 - val_loss: 74349.9531 - val_mean_absolute_error: 272.1201\n",
            "Epoch 32/80\n",
            "800/800 [==============================] - 0s 54us/step - loss: 19686.2808 - mean_absolute_error: 121.9700 - val_loss: 74349.9531 - val_mean_absolute_error: 272.1201\n",
            "Epoch 33/80\n",
            "800/800 [==============================] - 0s 53us/step - loss: 19686.2803 - mean_absolute_error: 121.9700 - val_loss: 74349.9531 - val_mean_absolute_error: 272.1201\n",
            "Epoch 34/80\n",
            "800/800 [==============================] - 0s 56us/step - loss: 19686.2800 - mean_absolute_error: 121.9700 - val_loss: 74349.9531 - val_mean_absolute_error: 272.1201\n",
            "Epoch 35/80\n",
            "800/800 [==============================] - 0s 52us/step - loss: 19686.2808 - mean_absolute_error: 121.9700 - val_loss: 74349.9531 - val_mean_absolute_error: 272.1201\n",
            "Epoch 36/80\n",
            "800/800 [==============================] - 0s 50us/step - loss: 19686.2812 - mean_absolute_error: 121.9700 - val_loss: 74349.9531 - val_mean_absolute_error: 272.1201\n",
            "Epoch 37/80\n",
            "800/800 [==============================] - 0s 54us/step - loss: 19686.2808 - mean_absolute_error: 121.9700 - val_loss: 74349.9531 - val_mean_absolute_error: 272.1201\n",
            "Epoch 38/80\n",
            "800/800 [==============================] - 0s 48us/step - loss: 19686.2800 - mean_absolute_error: 121.9700 - val_loss: 74349.9531 - val_mean_absolute_error: 272.1201\n",
            "Epoch 39/80\n",
            "800/800 [==============================] - 0s 53us/step - loss: 19686.2805 - mean_absolute_error: 121.9700 - val_loss: 74349.9531 - val_mean_absolute_error: 272.1201\n",
            "Epoch 40/80\n",
            "800/800 [==============================] - 0s 46us/step - loss: 19686.2810 - mean_absolute_error: 121.9700 - val_loss: 74349.9531 - val_mean_absolute_error: 272.1201\n",
            "Epoch 41/80\n",
            "800/800 [==============================] - 0s 60us/step - loss: 19686.2805 - mean_absolute_error: 121.9700 - val_loss: 74349.9531 - val_mean_absolute_error: 272.1201\n",
            "Epoch 42/80\n",
            "800/800 [==============================] - 0s 51us/step - loss: 19686.2803 - mean_absolute_error: 121.9700 - val_loss: 74349.9531 - val_mean_absolute_error: 272.1201\n",
            "Epoch 43/80\n",
            "800/800 [==============================] - 0s 57us/step - loss: 19686.2805 - mean_absolute_error: 121.9700 - val_loss: 74349.9531 - val_mean_absolute_error: 272.1201\n",
            "Epoch 44/80\n",
            "800/800 [==============================] - 0s 49us/step - loss: 19686.2808 - mean_absolute_error: 121.9700 - val_loss: 74349.9531 - val_mean_absolute_error: 272.1201\n",
            "Epoch 45/80\n",
            "800/800 [==============================] - 0s 46us/step - loss: 19686.2803 - mean_absolute_error: 121.9700 - val_loss: 74349.9531 - val_mean_absolute_error: 272.1201\n",
            "Epoch 46/80\n",
            "800/800 [==============================] - 0s 52us/step - loss: 19686.2810 - mean_absolute_error: 121.9700 - val_loss: 74349.9531 - val_mean_absolute_error: 272.1201\n",
            "Epoch 47/80\n",
            "800/800 [==============================] - 0s 51us/step - loss: 19686.2810 - mean_absolute_error: 121.9700 - val_loss: 74349.9531 - val_mean_absolute_error: 272.1201\n",
            "Epoch 48/80\n",
            "800/800 [==============================] - 0s 52us/step - loss: 19686.2803 - mean_absolute_error: 121.9700 - val_loss: 74349.9531 - val_mean_absolute_error: 272.1201\n",
            "Epoch 49/80\n",
            "800/800 [==============================] - 0s 55us/step - loss: 19686.2803 - mean_absolute_error: 121.9700 - val_loss: 74349.9531 - val_mean_absolute_error: 272.1201\n",
            "Epoch 50/80\n",
            "800/800 [==============================] - 0s 53us/step - loss: 19686.2812 - mean_absolute_error: 121.9700 - val_loss: 74349.9531 - val_mean_absolute_error: 272.1201\n",
            "Epoch 51/80\n",
            "800/800 [==============================] - 0s 54us/step - loss: 19686.2803 - mean_absolute_error: 121.9700 - val_loss: 74349.9531 - val_mean_absolute_error: 272.1201\n",
            "Epoch 52/80\n",
            "800/800 [==============================] - 0s 52us/step - loss: 19686.2805 - mean_absolute_error: 121.9700 - val_loss: 74349.9531 - val_mean_absolute_error: 272.1201\n",
            "Epoch 53/80\n",
            "800/800 [==============================] - 0s 51us/step - loss: 19686.2805 - mean_absolute_error: 121.9700 - val_loss: 74349.9531 - val_mean_absolute_error: 272.1201\n",
            "Epoch 54/80\n",
            "800/800 [==============================] - 0s 50us/step - loss: 19686.2808 - mean_absolute_error: 121.9700 - val_loss: 74349.9531 - val_mean_absolute_error: 272.1201\n",
            "Epoch 55/80\n",
            "800/800 [==============================] - 0s 49us/step - loss: 19686.2803 - mean_absolute_error: 121.9700 - val_loss: 74349.9531 - val_mean_absolute_error: 272.1201\n",
            "Epoch 56/80\n",
            "800/800 [==============================] - 0s 54us/step - loss: 19686.2810 - mean_absolute_error: 121.9700 - val_loss: 74349.9531 - val_mean_absolute_error: 272.1201\n",
            "Epoch 57/80\n",
            "800/800 [==============================] - 0s 54us/step - loss: 19686.2804 - mean_absolute_error: 121.9700 - val_loss: 74349.9531 - val_mean_absolute_error: 272.1201\n",
            "Epoch 58/80\n",
            "800/800 [==============================] - 0s 57us/step - loss: 19686.2803 - mean_absolute_error: 121.9700 - val_loss: 74349.9531 - val_mean_absolute_error: 272.1201\n",
            "Epoch 59/80\n",
            "800/800 [==============================] - 0s 52us/step - loss: 19686.2805 - mean_absolute_error: 121.9700 - val_loss: 74349.9531 - val_mean_absolute_error: 272.1201\n",
            "Epoch 60/80\n",
            "800/800 [==============================] - 0s 54us/step - loss: 19686.2803 - mean_absolute_error: 121.9700 - val_loss: 74349.9531 - val_mean_absolute_error: 272.1201\n",
            "Epoch 61/80\n",
            "800/800 [==============================] - 0s 50us/step - loss: 19686.2808 - mean_absolute_error: 121.9700 - val_loss: 74349.9531 - val_mean_absolute_error: 272.1201\n",
            "Epoch 62/80\n",
            "800/800 [==============================] - 0s 51us/step - loss: 19686.2800 - mean_absolute_error: 121.9700 - val_loss: 74349.9531 - val_mean_absolute_error: 272.1201\n",
            "Epoch 63/80\n",
            "800/800 [==============================] - 0s 52us/step - loss: 19686.2798 - mean_absolute_error: 121.9700 - val_loss: 74349.9531 - val_mean_absolute_error: 272.1201\n",
            "Epoch 64/80\n",
            "800/800 [==============================] - 0s 72us/step - loss: 19686.2808 - mean_absolute_error: 121.9700 - val_loss: 74349.9531 - val_mean_absolute_error: 272.1201\n",
            "Epoch 65/80\n",
            "800/800 [==============================] - 0s 48us/step - loss: 19686.2812 - mean_absolute_error: 121.9700 - val_loss: 74349.9531 - val_mean_absolute_error: 272.1201\n",
            "Epoch 66/80\n",
            "800/800 [==============================] - 0s 52us/step - loss: 19686.2800 - mean_absolute_error: 121.9700 - val_loss: 74349.9531 - val_mean_absolute_error: 272.1201\n",
            "Epoch 67/80\n",
            "800/800 [==============================] - 0s 52us/step - loss: 19686.2803 - mean_absolute_error: 121.9700 - val_loss: 74349.9531 - val_mean_absolute_error: 272.1201\n",
            "Epoch 68/80\n",
            "800/800 [==============================] - 0s 60us/step - loss: 19686.2800 - mean_absolute_error: 121.9700 - val_loss: 74349.9531 - val_mean_absolute_error: 272.1201\n",
            "Epoch 69/80\n",
            "800/800 [==============================] - 0s 56us/step - loss: 19686.2803 - mean_absolute_error: 121.9700 - val_loss: 74349.9531 - val_mean_absolute_error: 272.1201\n",
            "Epoch 70/80\n",
            "800/800 [==============================] - 0s 49us/step - loss: 19686.2808 - mean_absolute_error: 121.9700 - val_loss: 74349.9531 - val_mean_absolute_error: 272.1201\n",
            "Epoch 71/80\n",
            "800/800 [==============================] - 0s 47us/step - loss: 19686.2803 - mean_absolute_error: 121.9700 - val_loss: 74349.9531 - val_mean_absolute_error: 272.1201\n",
            "Epoch 72/80\n",
            "800/800 [==============================] - 0s 50us/step - loss: 19686.2805 - mean_absolute_error: 121.9700 - val_loss: 74349.9531 - val_mean_absolute_error: 272.1201\n",
            "Epoch 73/80\n",
            "800/800 [==============================] - 0s 51us/step - loss: 19686.2800 - mean_absolute_error: 121.9700 - val_loss: 74349.9531 - val_mean_absolute_error: 272.1201\n",
            "Epoch 74/80\n",
            "800/800 [==============================] - 0s 50us/step - loss: 19686.2803 - mean_absolute_error: 121.9700 - val_loss: 74349.9531 - val_mean_absolute_error: 272.1201\n",
            "Epoch 75/80\n",
            "800/800 [==============================] - 0s 52us/step - loss: 19686.2812 - mean_absolute_error: 121.9700 - val_loss: 74349.9531 - val_mean_absolute_error: 272.1201\n",
            "Epoch 76/80\n",
            "800/800 [==============================] - 0s 57us/step - loss: 19686.2810 - mean_absolute_error: 121.9700 - val_loss: 74349.9531 - val_mean_absolute_error: 272.1201\n",
            "Epoch 77/80\n",
            "800/800 [==============================] - 0s 58us/step - loss: 19686.2805 - mean_absolute_error: 121.9700 - val_loss: 74349.9531 - val_mean_absolute_error: 272.1201\n",
            "Epoch 78/80\n",
            "800/800 [==============================] - 0s 55us/step - loss: 19686.2803 - mean_absolute_error: 121.9700 - val_loss: 74349.9531 - val_mean_absolute_error: 272.1201\n",
            "Epoch 79/80\n",
            "800/800 [==============================] - 0s 60us/step - loss: 19686.2805 - mean_absolute_error: 121.9700 - val_loss: 74349.9531 - val_mean_absolute_error: 272.1201\n",
            "Epoch 80/80\n",
            "800/800 [==============================] - 0s 53us/step - loss: 19686.2808 - mean_absolute_error: 121.9700 - val_loss: 74349.9531 - val_mean_absolute_error: 272.1201\n"
          ],
          "name": "stdout"
        }
      ]
    },
    {
      "cell_type": "code",
      "metadata": {
        "id": "QEOb6F_Qj63L",
        "colab_type": "code",
        "colab": {
          "base_uri": "https://localhost:8080/",
          "height": 481
        },
        "outputId": "8515901b-1748-412f-945c-0f3128c4466f"
      },
      "source": [
        "plot_metric(history,'loss')"
      ],
      "execution_count": 46,
      "outputs": [
        {
          "output_type": "display_data",
          "data": {
            "image/png": "[encoded data removed]",
            "text/plain": [
              "<Figure size 748.8x514.8 with 1 Axes>"
            ]
          },
          "metadata": {
            "tags": []
          }
        }
      ]
    },
    {
      "cell_type": "code",
      "metadata": {
        "id": "KLjNwg6p8RvP",
        "colab_type": "code",
        "colab": {
          "base_uri": "https://localhost:8080/",
          "height": 51
        },
        "outputId": "ff40b82f-a40f-4120-81af-220276bdc194"
      },
      "source": [
        "nn.evaluate(x_test,y_test)"
      ],
      "execution_count": 50,
      "outputs": [
        {
          "output_type": "stream",
          "text": [
            "100/100 [==============================] - 0s 103us/step\n"
          ],
          "name": "stdout"
        },
        {
          "output_type": "execute_result",
          "data": {
            "text/plain": [
              "[100574.869375, 317.015]"
            ]
          },
          "metadata": {
            "tags": []
          },
          "execution_count": 50
        }
      ]
    },
    {
      "cell_type": "markdown",
      "metadata": {
        "id": "MLsLzBdo8Z_E",
        "colab_type": "text"
      },
      "source": [
        "El primer numero indicea el rmsi y despues todas las metricas que hayamos pasado (en este caso solo una, la mae)"
      ]
    },
    {
      "cell_type": "markdown",
      "metadata": {
        "id": "UeZeJHRR8iLk",
        "colab_type": "text"
      },
      "source": [
        "Ahora vamos a predecir"
      ]
    },
    {
      "cell_type": "code",
      "metadata": {
        "id": "6QQHgcQG8liE",
        "colab_type": "code",
        "colab": {
          "base_uri": "https://localhost:8080/",
          "height": 449
        },
        "outputId": "59503c57-2c2d-44e1-be28-149e101c50c0"
      },
      "source": [
        "y_hat = nn.predict(x_test)\n",
        "plt.plot(x_train,y_train,'r')\n",
        "plt.plot(x_test,y_test,'b')\n",
        "plt.plot(x_test,y_hat,'--g')\n",
        "plt.show()"
      ],
      "execution_count": 52,
      "outputs": [
        {
          "output_type": "display_data",
          "data": {
            "image/png": "[encoded data removed]",
            "text/plain": [
              "<Figure size 748.8x514.8 with 1 Axes>"
            ]
          },
          "metadata": {
            "tags": []
          }
        }
      ]
    },
    {
      "cell_type": "code",
      "metadata": {
        "id": "HiC7dPjd94Sq",
        "colab_type": "code",
        "colab": {}
      },
      "source": [
        "def create_nn(activation,optimizer,loss,metrics,*layer_dimensions):\n",
        "  nn = models.Sequential()\n",
        "  \n",
        "  first = True\n",
        "  for dimension in layer_dimensions:\n",
        "    if first:\n",
        "       nn.add(layers.Dense(units=dimension, input_shape=(1,), activation=activation))\n",
        "    else:\n",
        "       nn.add(layers.Dense(dimension=64, activation=activation ))\n",
        "      \n",
        "  nn.add(layers.Dense(units=1, activation=activation ))\n",
        "\n",
        "  nn.summary()\n",
        "  \n",
        "  nn.compile(optimizer=optimizer, loss=loss, metrics=metrics)\n",
        "  \n",
        "  return nn"
      ],
      "execution_count": 0,
      "outputs": []
    },
    {
      "cell_type": "code",
      "metadata": {
        "id": "1OGE-XqYAT6a",
        "colab_type": "code",
        "colab": {
          "base_uri": "https://localhost:8080/",
          "height": 289
        },
        "outputId": "94cc7073-9313-4b4b-8ac3-3c02f22caed7"
      },
      "source": [
        "model_sigmoid = create_nn('sigmoid',optimizers.rmsprop(),losses.mean_squared_error,[metrics.mae],10,20,30)"
      ],
      "execution_count": 65,
      "outputs": [
        {
          "output_type": "stream",
          "text": [
            "Model: \"sequential_14\"\n",
            "_________________________________________________________________\n",
            "Layer (type)                 Output Shape              Param #   \n",
            "=================================================================\n",
            "dense_38 (Dense)             (None, 10)                20        \n",
            "_________________________________________________________________\n",
            "dense_39 (Dense)             (None, 20)                220       \n",
            "_________________________________________________________________\n",
            "dense_40 (Dense)             (None, 30)                630       \n",
            "_________________________________________________________________\n",
            "dense_41 (Dense)             (None, 1)                 31        \n",
            "=================================================================\n",
            "Total params: 901\n",
            "Trainable params: 901\n",
            "Non-trainable params: 0\n",
            "_________________________________________________________________\n"
          ],
          "name": "stdout"
        }
      ]
    },
    {
      "cell_type": "code",
      "metadata": {
        "id": "8IOzdDKWCZ3R",
        "colab_type": "code",
        "colab": {
          "base_uri": "https://localhost:8080/",
          "height": 289
        },
        "outputId": "febf4e05-c3f6-4aac-8469-4bfa6cff7e7a"
      },
      "source": [
        "model_elu = create_nn('elu',optimizers.rmsprop(),losses.mean_squared_error,[metrics.mae],10,20,30)"
      ],
      "execution_count": 68,
      "outputs": [
        {
          "output_type": "stream",
          "text": [
            "Model: \"sequential_15\"\n",
            "_________________________________________________________________\n",
            "Layer (type)                 Output Shape              Param #   \n",
            "=================================================================\n",
            "dense_42 (Dense)             (None, 10)                20        \n",
            "_________________________________________________________________\n",
            "dense_43 (Dense)             (None, 20)                220       \n",
            "_________________________________________________________________\n",
            "dense_44 (Dense)             (None, 30)                630       \n",
            "_________________________________________________________________\n",
            "dense_45 (Dense)             (None, 1)                 31        \n",
            "=================================================================\n",
            "Total params: 901\n",
            "Trainable params: 901\n",
            "Non-trainable params: 0\n",
            "_________________________________________________________________\n"
          ],
          "name": "stdout"
        }
      ]
    },
    {
      "cell_type": "code",
      "metadata": {
        "id": "W1hpR0kGBdNC",
        "colab_type": "code",
        "colab": {}
      },
      "source": [
        "def train_and_show(model):\n",
        "  history = model.fit(x_train,y_train,batch_size=100,epochs=80,validation_split=0.2)\n",
        "  plot_metric(history,'loss')"
      ],
      "execution_count": 0,
      "outputs": []
    },
    {
      "cell_type": "code",
      "metadata": {
        "id": "d_fsBnqFBopD",
        "colab_type": "code",
        "colab": {
          "base_uri": "https://localhost:8080/",
          "height": 1000
        },
        "outputId": "cfef1fa0-a009-42fa-df30-6f3427dce6ee"
      },
      "source": [
        "train_and_show(model_sigmoid)"
      ],
      "execution_count": 67,
      "outputs": [
        {
          "output_type": "stream",
          "text": [
            "Train on 800 samples, validate on 200 samples\n",
            "Epoch 1/80\n",
            "800/800 [==============================] - 0s 469us/step - loss: 19504.6553 - mean_absolute_error: 121.2228 - val_loss: 73919.7930 - val_mean_absolute_error: 271.3286\n",
            "Epoch 2/80\n",
            "800/800 [==============================] - 0s 62us/step - loss: 19488.4565 - mean_absolute_error: 121.1558 - val_loss: 73894.4727 - val_mean_absolute_error: 271.2819\n",
            "Epoch 3/80\n",
            "800/800 [==============================] - 0s 50us/step - loss: 19478.7266 - mean_absolute_error: 121.1158 - val_loss: 73876.2070 - val_mean_absolute_error: 271.2482\n",
            "Epoch 4/80\n",
            "800/800 [==============================] - 0s 55us/step - loss: 19471.4521 - mean_absolute_error: 121.0860 - val_loss: 73862.0430 - val_mean_absolute_error: 271.2221\n",
            "Epoch 5/80\n",
            "800/800 [==============================] - 0s 49us/step - loss: 19465.7629 - mean_absolute_error: 121.0628 - val_loss: 73850.8047 - val_mean_absolute_error: 271.2014\n",
            "Epoch 6/80\n",
            "800/800 [==============================] - 0s 59us/step - loss: 19461.2468 - mean_absolute_error: 121.0440 - val_loss: 73841.9297 - val_mean_absolute_error: 271.1851\n",
            "Epoch 7/80\n",
            "800/800 [==============================] - 0s 53us/step - loss: 19457.6641 - mean_absolute_error: 121.0291 - val_loss: 73834.8711 - val_mean_absolute_error: 271.1720\n",
            "Epoch 8/80\n",
            "800/800 [==============================] - 0s 49us/step - loss: 19454.7800 - mean_absolute_error: 121.0173 - val_loss: 73829.1641 - val_mean_absolute_error: 271.1615\n",
            "Epoch 9/80\n",
            "800/800 [==============================] - 0s 49us/step - loss: 19452.4646 - mean_absolute_error: 121.0077 - val_loss: 73824.6094 - val_mean_absolute_error: 271.1531\n",
            "Epoch 10/80\n",
            "800/800 [==============================] - 0s 50us/step - loss: 19450.6064 - mean_absolute_error: 121.0000 - val_loss: 73820.9453 - val_mean_absolute_error: 271.1464\n",
            "Epoch 11/80\n",
            "800/800 [==============================] - 0s 54us/step - loss: 19449.1151 - mean_absolute_error: 120.9938 - val_loss: 73818.0156 - val_mean_absolute_error: 271.1410\n",
            "Epoch 12/80\n",
            "800/800 [==============================] - 0s 52us/step - loss: 19447.9258 - mean_absolute_error: 120.9890 - val_loss: 73815.6836 - val_mean_absolute_error: 271.1367\n",
            "Epoch 13/80\n",
            "800/800 [==============================] - 0s 48us/step - loss: 19446.9799 - mean_absolute_error: 120.9850 - val_loss: 73813.8438 - val_mean_absolute_error: 271.1333\n",
            "Epoch 14/80\n",
            "800/800 [==============================] - 0s 48us/step - loss: 19446.2341 - mean_absolute_error: 120.9819 - val_loss: 73812.3906 - val_mean_absolute_error: 271.1306\n",
            "Epoch 15/80\n",
            "800/800 [==============================] - 0s 57us/step - loss: 19445.6414 - mean_absolute_error: 120.9795 - val_loss: 73811.2148 - val_mean_absolute_error: 271.1284\n",
            "Epoch 16/80\n",
            "800/800 [==============================] - 0s 54us/step - loss: 19445.1714 - mean_absolute_error: 120.9775 - val_loss: 73810.3008 - val_mean_absolute_error: 271.1267\n",
            "Epoch 17/80\n",
            "800/800 [==============================] - 0s 46us/step - loss: 19444.7977 - mean_absolute_error: 120.9760 - val_loss: 73809.5781 - val_mean_absolute_error: 271.1254\n",
            "Epoch 18/80\n",
            "800/800 [==============================] - 0s 43us/step - loss: 19444.5024 - mean_absolute_error: 120.9748 - val_loss: 73808.9961 - val_mean_absolute_error: 271.1243\n",
            "Epoch 19/80\n",
            "800/800 [==============================] - 0s 46us/step - loss: 19444.2676 - mean_absolute_error: 120.9738 - val_loss: 73808.5352 - val_mean_absolute_error: 271.1235\n",
            "Epoch 20/80\n",
            "800/800 [==============================] - 0s 56us/step - loss: 19444.0813 - mean_absolute_error: 120.9730 - val_loss: 73808.1680 - val_mean_absolute_error: 271.1228\n",
            "Epoch 21/80\n",
            "800/800 [==============================] - 0s 52us/step - loss: 19443.9353 - mean_absolute_error: 120.9724 - val_loss: 73807.8906 - val_mean_absolute_error: 271.1223\n",
            "Epoch 22/80\n",
            "800/800 [==============================] - 0s 61us/step - loss: 19443.8179 - mean_absolute_error: 120.9719 - val_loss: 73807.6562 - val_mean_absolute_error: 271.1219\n",
            "Epoch 23/80\n",
            "800/800 [==============================] - 0s 46us/step - loss: 19443.7244 - mean_absolute_error: 120.9716 - val_loss: 73807.4805 - val_mean_absolute_error: 271.1215\n",
            "Epoch 24/80\n",
            "800/800 [==============================] - 0s 48us/step - loss: 19443.6499 - mean_absolute_error: 120.9713 - val_loss: 73807.3242 - val_mean_absolute_error: 271.1212\n",
            "Epoch 25/80\n",
            "800/800 [==============================] - 0s 56us/step - loss: 19443.5913 - mean_absolute_error: 120.9710 - val_loss: 73807.2109 - val_mean_absolute_error: 271.1210\n",
            "Epoch 26/80\n",
            "800/800 [==============================] - 0s 55us/step - loss: 19443.5432 - mean_absolute_error: 120.9708 - val_loss: 73807.1133 - val_mean_absolute_error: 271.1209\n",
            "Epoch 27/80\n",
            "800/800 [==============================] - 0s 46us/step - loss: 19443.5061 - mean_absolute_error: 120.9707 - val_loss: 73807.0430 - val_mean_absolute_error: 271.1207\n",
            "Epoch 28/80\n",
            "800/800 [==============================] - 0s 48us/step - loss: 19443.4756 - mean_absolute_error: 120.9705 - val_loss: 73806.9805 - val_mean_absolute_error: 271.1206\n",
            "Epoch 29/80\n",
            "800/800 [==============================] - 0s 54us/step - loss: 19443.4507 - mean_absolute_error: 120.9704 - val_loss: 73806.9258 - val_mean_absolute_error: 271.1205\n",
            "Epoch 30/80\n",
            "800/800 [==============================] - 0s 49us/step - loss: 19443.4297 - mean_absolute_error: 120.9703 - val_loss: 73806.8945 - val_mean_absolute_error: 271.1205\n",
            "Epoch 31/80\n",
            "800/800 [==============================] - 0s 50us/step - loss: 19443.4143 - mean_absolute_error: 120.9703 - val_loss: 73806.8633 - val_mean_absolute_error: 271.1204\n",
            "Epoch 32/80\n",
            "800/800 [==============================] - 0s 47us/step - loss: 19443.4014 - mean_absolute_error: 120.9702 - val_loss: 73806.8281 - val_mean_absolute_error: 271.1203\n",
            "Epoch 33/80\n",
            "800/800 [==============================] - 0s 44us/step - loss: 19443.3909 - mean_absolute_error: 120.9702 - val_loss: 73806.8125 - val_mean_absolute_error: 271.1203\n",
            "Epoch 34/80\n",
            "800/800 [==============================] - 0s 50us/step - loss: 19443.3818 - mean_absolute_error: 120.9701 - val_loss: 73806.7969 - val_mean_absolute_error: 271.1203\n",
            "Epoch 35/80\n",
            "800/800 [==============================] - 0s 48us/step - loss: 19443.3755 - mean_absolute_error: 120.9701 - val_loss: 73806.7812 - val_mean_absolute_error: 271.1203\n",
            "Epoch 36/80\n",
            "800/800 [==============================] - 0s 48us/step - loss: 19443.3696 - mean_absolute_error: 120.9701 - val_loss: 73806.7773 - val_mean_absolute_error: 271.1202\n",
            "Epoch 37/80\n",
            "800/800 [==============================] - 0s 47us/step - loss: 19443.3651 - mean_absolute_error: 120.9701 - val_loss: 73806.7656 - val_mean_absolute_error: 271.1202\n",
            "Epoch 38/80\n",
            "800/800 [==============================] - 0s 50us/step - loss: 19443.3608 - mean_absolute_error: 120.9701 - val_loss: 73806.7461 - val_mean_absolute_error: 271.1202\n",
            "Epoch 39/80\n",
            "800/800 [==============================] - 0s 54us/step - loss: 19443.3574 - mean_absolute_error: 120.9700 - val_loss: 73806.7461 - val_mean_absolute_error: 271.1202\n",
            "Epoch 40/80\n",
            "800/800 [==============================] - 0s 47us/step - loss: 19443.3553 - mean_absolute_error: 120.9700 - val_loss: 73806.7422 - val_mean_absolute_error: 271.1202\n",
            "Epoch 41/80\n",
            "800/800 [==============================] - 0s 48us/step - loss: 19443.3518 - mean_absolute_error: 120.9700 - val_loss: 73806.7305 - val_mean_absolute_error: 271.1201\n",
            "Epoch 42/80\n",
            "800/800 [==============================] - 0s 50us/step - loss: 19443.3521 - mean_absolute_error: 120.9700 - val_loss: 73806.7227 - val_mean_absolute_error: 271.1201\n",
            "Epoch 43/80\n",
            "800/800 [==============================] - 0s 49us/step - loss: 19443.3477 - mean_absolute_error: 120.9700 - val_loss: 73806.7227 - val_mean_absolute_error: 271.1201\n",
            "Epoch 44/80\n",
            "800/800 [==============================] - 0s 50us/step - loss: 19443.3481 - mean_absolute_error: 120.9700 - val_loss: 73806.7227 - val_mean_absolute_error: 271.1201\n",
            "Epoch 45/80\n",
            "800/800 [==============================] - 0s 46us/step - loss: 19443.3472 - mean_absolute_error: 120.9700 - val_loss: 73806.7227 - val_mean_absolute_error: 271.1201\n",
            "Epoch 46/80\n",
            "800/800 [==============================] - 0s 59us/step - loss: 19443.3450 - mean_absolute_error: 120.9700 - val_loss: 73806.7227 - val_mean_absolute_error: 271.1201\n",
            "Epoch 47/80\n",
            "800/800 [==============================] - 0s 55us/step - loss: 19443.3445 - mean_absolute_error: 120.9700 - val_loss: 73806.7227 - val_mean_absolute_error: 271.1201\n",
            "Epoch 48/80\n",
            "800/800 [==============================] - 0s 57us/step - loss: 19443.3433 - mean_absolute_error: 120.9700 - val_loss: 73806.7109 - val_mean_absolute_error: 271.1201\n",
            "Epoch 49/80\n",
            "800/800 [==============================] - 0s 46us/step - loss: 19443.3442 - mean_absolute_error: 120.9700 - val_loss: 73806.7109 - val_mean_absolute_error: 271.1201\n",
            "Epoch 50/80\n",
            "800/800 [==============================] - 0s 51us/step - loss: 19443.3440 - mean_absolute_error: 120.9700 - val_loss: 73806.7109 - val_mean_absolute_error: 271.1201\n",
            "Epoch 51/80\n",
            "800/800 [==============================] - 0s 47us/step - loss: 19443.3435 - mean_absolute_error: 120.9700 - val_loss: 73806.7109 - val_mean_absolute_error: 271.1201\n",
            "Epoch 52/80\n",
            "800/800 [==============================] - 0s 50us/step - loss: 19443.3440 - mean_absolute_error: 120.9700 - val_loss: 73806.7109 - val_mean_absolute_error: 271.1201\n",
            "Epoch 53/80\n",
            "800/800 [==============================] - 0s 53us/step - loss: 19443.3411 - mean_absolute_error: 120.9700 - val_loss: 73806.7109 - val_mean_absolute_error: 271.1201\n",
            "Epoch 54/80\n",
            "800/800 [==============================] - 0s 45us/step - loss: 19443.3411 - mean_absolute_error: 120.9700 - val_loss: 73806.7109 - val_mean_absolute_error: 271.1201\n",
            "Epoch 55/80\n",
            "800/800 [==============================] - 0s 53us/step - loss: 19443.3413 - mean_absolute_error: 120.9700 - val_loss: 73806.7109 - val_mean_absolute_error: 271.1201\n",
            "Epoch 56/80\n",
            "800/800 [==============================] - 0s 50us/step - loss: 19443.3408 - mean_absolute_error: 120.9700 - val_loss: 73806.7109 - val_mean_absolute_error: 271.1201\n",
            "Epoch 57/80\n",
            "800/800 [==============================] - 0s 54us/step - loss: 19443.3413 - mean_absolute_error: 120.9700 - val_loss: 73806.7109 - val_mean_absolute_error: 271.1201\n",
            "Epoch 58/80\n",
            "800/800 [==============================] - 0s 48us/step - loss: 19443.3406 - mean_absolute_error: 120.9700 - val_loss: 73806.7109 - val_mean_absolute_error: 271.1201\n",
            "Epoch 59/80\n",
            "800/800 [==============================] - 0s 48us/step - loss: 19443.3411 - mean_absolute_error: 120.9700 - val_loss: 73806.7109 - val_mean_absolute_error: 271.1201\n",
            "Epoch 60/80\n",
            "800/800 [==============================] - 0s 49us/step - loss: 19443.3408 - mean_absolute_error: 120.9700 - val_loss: 73806.7109 - val_mean_absolute_error: 271.1201\n",
            "Epoch 61/80\n",
            "800/800 [==============================] - 0s 52us/step - loss: 19443.3406 - mean_absolute_error: 120.9700 - val_loss: 73806.7109 - val_mean_absolute_error: 271.1201\n",
            "Epoch 62/80\n",
            "800/800 [==============================] - 0s 46us/step - loss: 19443.3403 - mean_absolute_error: 120.9700 - val_loss: 73806.7109 - val_mean_absolute_error: 271.1201\n",
            "Epoch 63/80\n",
            "800/800 [==============================] - 0s 46us/step - loss: 19443.3406 - mean_absolute_error: 120.9700 - val_loss: 73806.7109 - val_mean_absolute_error: 271.1201\n",
            "Epoch 64/80\n",
            "800/800 [==============================] - 0s 52us/step - loss: 19443.3408 - mean_absolute_error: 120.9700 - val_loss: 73806.7109 - val_mean_absolute_error: 271.1201\n",
            "Epoch 65/80\n",
            "800/800 [==============================] - 0s 49us/step - loss: 19443.3401 - mean_absolute_error: 120.9700 - val_loss: 73806.7109 - val_mean_absolute_error: 271.1201\n",
            "Epoch 66/80\n",
            "800/800 [==============================] - 0s 53us/step - loss: 19443.3408 - mean_absolute_error: 120.9700 - val_loss: 73806.7109 - val_mean_absolute_error: 271.1201\n",
            "Epoch 67/80\n",
            "800/800 [==============================] - 0s 50us/step - loss: 19443.3409 - mean_absolute_error: 120.9700 - val_loss: 73806.7109 - val_mean_absolute_error: 271.1201\n",
            "Epoch 68/80\n",
            "800/800 [==============================] - 0s 49us/step - loss: 19443.3401 - mean_absolute_error: 120.9700 - val_loss: 73806.7109 - val_mean_absolute_error: 271.1201\n",
            "Epoch 69/80\n",
            "800/800 [==============================] - 0s 48us/step - loss: 19443.3408 - mean_absolute_error: 120.9700 - val_loss: 73806.7109 - val_mean_absolute_error: 271.1201\n",
            "Epoch 70/80\n",
            "800/800 [==============================] - 0s 59us/step - loss: 19443.3406 - mean_absolute_error: 120.9700 - val_loss: 73806.7109 - val_mean_absolute_error: 271.1201\n",
            "Epoch 71/80\n",
            "800/800 [==============================] - 0s 55us/step - loss: 19443.3401 - mean_absolute_error: 120.9700 - val_loss: 73806.7109 - val_mean_absolute_error: 271.1201\n",
            "Epoch 72/80\n",
            "800/800 [==============================] - 0s 53us/step - loss: 19443.3403 - mean_absolute_error: 120.9700 - val_loss: 73806.7109 - val_mean_absolute_error: 271.1201\n",
            "Epoch 73/80\n",
            "800/800 [==============================] - 0s 48us/step - loss: 19443.3402 - mean_absolute_error: 120.9700 - val_loss: 73806.7109 - val_mean_absolute_error: 271.1201\n",
            "Epoch 74/80\n",
            "800/800 [==============================] - 0s 52us/step - loss: 19443.3403 - mean_absolute_error: 120.9700 - val_loss: 73806.7109 - val_mean_absolute_error: 271.1201\n",
            "Epoch 75/80\n",
            "800/800 [==============================] - 0s 44us/step - loss: 19443.3406 - mean_absolute_error: 120.9700 - val_loss: 73806.7109 - val_mean_absolute_error: 271.1201\n",
            "Epoch 76/80\n",
            "800/800 [==============================] - 0s 48us/step - loss: 19443.3411 - mean_absolute_error: 120.9700 - val_loss: 73806.7109 - val_mean_absolute_error: 271.1201\n",
            "Epoch 77/80\n",
            "800/800 [==============================] - 0s 48us/step - loss: 19443.3409 - mean_absolute_error: 120.9700 - val_loss: 73806.7109 - val_mean_absolute_error: 271.1201\n",
            "Epoch 78/80\n",
            "800/800 [==============================] - 0s 51us/step - loss: 19443.3416 - mean_absolute_error: 120.9700 - val_loss: 73806.7109 - val_mean_absolute_error: 271.1201\n",
            "Epoch 79/80\n",
            "800/800 [==============================] - 0s 55us/step - loss: 19443.3411 - mean_absolute_error: 120.9700 - val_loss: 73806.7109 - val_mean_absolute_error: 271.1201\n",
            "Epoch 80/80\n",
            "800/800 [==============================] - 0s 52us/step - loss: 19443.3407 - mean_absolute_error: 120.9700 - val_loss: 73806.7109 - val_mean_absolute_error: 271.1201\n"
          ],
          "name": "stdout"
        },
        {
          "output_type": "display_data",
          "data": {
            "image/png": "[encoded data removed]",
            "text/plain": [
              "<Figure size 748.8x514.8 with 1 Axes>"
            ]
          },
          "metadata": {
            "tags": []
          }
        }
      ]
    },
    {
      "cell_type": "code",
      "metadata": {
        "id": "jLAhmZR5CnHi",
        "colab_type": "code",
        "colab": {
          "base_uri": "https://localhost:8080/",
          "height": 1000
        },
        "outputId": "02d7203a-ead6-4eff-c519-164c054cbdeb"
      },
      "source": [
        "train_and_show(model_elu)"
      ],
      "execution_count": 70,
      "outputs": [
        {
          "output_type": "stream",
          "text": [
            "Train on 800 samples, validate on 200 samples\n",
            "Epoch 1/80\n",
            "800/800 [==============================] - 0s 477us/step - loss: 17811.0144 - mean_absolute_error: 115.7621 - val_loss: 63738.2969 - val_mean_absolute_error: 251.9458\n",
            "Epoch 2/80\n",
            "800/800 [==============================] - 0s 53us/step - loss: 15903.3680 - mean_absolute_error: 109.0548 - val_loss: 57271.8340 - val_mean_absolute_error: 238.8158\n",
            "Epoch 3/80\n",
            "800/800 [==============================] - 0s 51us/step - loss: 14106.2194 - mean_absolute_error: 102.4139 - val_loss: 51105.6855 - val_mean_absolute_error: 225.5888\n",
            "Epoch 4/80\n",
            "800/800 [==============================] - 0s 51us/step - loss: 12433.4817 - mean_absolute_error: 95.8058 - val_loss: 45009.7129 - val_mean_absolute_error: 211.7004\n",
            "Epoch 5/80\n",
            "800/800 [==============================] - 0s 54us/step - loss: 10686.6874 - mean_absolute_error: 88.4712 - val_loss: 38411.7754 - val_mean_absolute_error: 195.5622\n",
            "Epoch 6/80\n",
            "800/800 [==============================] - 0s 47us/step - loss: 8838.5953 - mean_absolute_error: 80.0793 - val_loss: 31202.9727 - val_mean_absolute_error: 176.2488\n",
            "Epoch 7/80\n",
            "800/800 [==============================] - 0s 53us/step - loss: 6852.8420 - mean_absolute_error: 69.9526 - val_loss: 23821.7354 - val_mean_absolute_error: 153.9875\n",
            "Epoch 8/80\n",
            "800/800 [==============================] - 0s 48us/step - loss: 4987.2168 - mean_absolute_error: 59.0285 - val_loss: 17038.0249 - val_mean_absolute_error: 130.2166\n",
            "Epoch 9/80\n",
            "800/800 [==============================] - 0s 47us/step - loss: 3316.8268 - mean_absolute_error: 47.5816 - val_loss: 11000.0562 - val_mean_absolute_error: 104.6135\n",
            "Epoch 10/80\n",
            "800/800 [==============================] - 0s 46us/step - loss: 1928.9754 - mean_absolute_error: 35.6468 - val_loss: 6157.1108 - val_mean_absolute_error: 78.2459\n",
            "Epoch 11/80\n",
            "800/800 [==============================] - 0s 53us/step - loss: 920.5857 - mean_absolute_error: 24.1470 - val_loss: 2815.2257 - val_mean_absolute_error: 52.8802\n",
            "Epoch 12/80\n",
            "800/800 [==============================] - 0s 67us/step - loss: 336.2090 - mean_absolute_error: 14.5537 - val_loss: 1011.7362 - val_mean_absolute_error: 31.6608\n",
            "Epoch 13/80\n",
            "800/800 [==============================] - 0s 52us/step - loss: 103.8125 - mean_absolute_error: 8.6020 - val_loss: 324.3842 - val_mean_absolute_error: 17.8750\n",
            "Epoch 14/80\n",
            "800/800 [==============================] - 0s 53us/step - loss: 50.9119 - mean_absolute_error: 6.2637 - val_loss: 142.8865 - val_mean_absolute_error: 11.8162\n",
            "Epoch 15/80\n",
            "800/800 [==============================] - 0s 51us/step - loss: 40.5647 - mean_absolute_error: 5.5464 - val_loss: 119.0618 - val_mean_absolute_error: 10.7813\n",
            "Epoch 16/80\n",
            "800/800 [==============================] - 0s 57us/step - loss: 31.4039 - mean_absolute_error: 4.8751 - val_loss: 102.2494 - val_mean_absolute_error: 10.0012\n",
            "Epoch 17/80\n",
            "800/800 [==============================] - 0s 47us/step - loss: 24.6784 - mean_absolute_error: 4.2924 - val_loss: 78.2204 - val_mean_absolute_error: 8.7460\n",
            "Epoch 18/80\n",
            "800/800 [==============================] - 0s 44us/step - loss: 20.3253 - mean_absolute_error: 3.8863 - val_loss: 32.4573 - val_mean_absolute_error: 5.5880\n",
            "Epoch 19/80\n",
            "800/800 [==============================] - 0s 46us/step - loss: 17.0701 - mean_absolute_error: 3.5408 - val_loss: 4.9357 - val_mean_absolute_error: 2.0579\n",
            "Epoch 20/80\n",
            "800/800 [==============================] - 0s 49us/step - loss: 15.6127 - mean_absolute_error: 3.3867 - val_loss: 9.2129 - val_mean_absolute_error: 2.9251\n",
            "Epoch 21/80\n",
            "800/800 [==============================] - 0s 54us/step - loss: 14.6724 - mean_absolute_error: 3.3452 - val_loss: 14.4797 - val_mean_absolute_error: 3.7198\n",
            "Epoch 22/80\n",
            "800/800 [==============================] - 0s 52us/step - loss: 8.7196 - mean_absolute_error: 2.5403 - val_loss: 60.6329 - val_mean_absolute_error: 7.7294\n",
            "Epoch 23/80\n",
            "800/800 [==============================] - 0s 47us/step - loss: 10.9295 - mean_absolute_error: 2.8667 - val_loss: 18.0900 - val_mean_absolute_error: 4.1898\n",
            "Epoch 24/80\n",
            "800/800 [==============================] - 0s 48us/step - loss: 7.9861 - mean_absolute_error: 2.4441 - val_loss: 0.4120 - val_mean_absolute_error: 0.5279\n",
            "Epoch 25/80\n",
            "800/800 [==============================] - 0s 51us/step - loss: 5.9475 - mean_absolute_error: 2.1009 - val_loss: 4.7016 - val_mean_absolute_error: 2.0972\n",
            "Epoch 26/80\n",
            "800/800 [==============================] - 0s 56us/step - loss: 6.7374 - mean_absolute_error: 2.2282 - val_loss: 2.2621 - val_mean_absolute_error: 1.4151\n",
            "Epoch 27/80\n",
            "800/800 [==============================] - 0s 51us/step - loss: 5.6585 - mean_absolute_error: 2.0577 - val_loss: 0.6666 - val_mean_absolute_error: 0.6810\n",
            "Epoch 28/80\n",
            "800/800 [==============================] - 0s 50us/step - loss: 4.3897 - mean_absolute_error: 1.8373 - val_loss: 1.5846 - val_mean_absolute_error: 1.2135\n",
            "Epoch 29/80\n",
            "800/800 [==============================] - 0s 55us/step - loss: 4.2642 - mean_absolute_error: 1.8144 - val_loss: 0.3012 - val_mean_absolute_error: 0.4437\n",
            "Epoch 30/80\n",
            "800/800 [==============================] - 0s 51us/step - loss: 4.1637 - mean_absolute_error: 1.7648 - val_loss: 4.1603 - val_mean_absolute_error: 2.0182\n",
            "Epoch 31/80\n",
            "800/800 [==============================] - 0s 48us/step - loss: 2.6271 - mean_absolute_error: 1.3449 - val_loss: 0.6077 - val_mean_absolute_error: 0.6738\n",
            "Epoch 32/80\n",
            "800/800 [==============================] - 0s 50us/step - loss: 4.2773 - mean_absolute_error: 1.7591 - val_loss: 0.3522 - val_mean_absolute_error: 0.4796\n",
            "Epoch 33/80\n",
            "800/800 [==============================] - 0s 49us/step - loss: 2.0778 - mean_absolute_error: 1.1999 - val_loss: 2.5178 - val_mean_absolute_error: 1.5605\n",
            "Epoch 34/80\n",
            "800/800 [==============================] - 0s 47us/step - loss: 3.4619 - mean_absolute_error: 1.5440 - val_loss: 0.1423 - val_mean_absolute_error: 0.3221\n",
            "Epoch 35/80\n",
            "800/800 [==============================] - 0s 56us/step - loss: 3.1957 - mean_absolute_error: 1.5384 - val_loss: 0.8523 - val_mean_absolute_error: 0.8644\n",
            "Epoch 36/80\n",
            "800/800 [==============================] - 0s 57us/step - loss: 2.1710 - mean_absolute_error: 1.2537 - val_loss: 2.3692 - val_mean_absolute_error: 1.5121\n",
            "Epoch 37/80\n",
            "800/800 [==============================] - 0s 64us/step - loss: 2.9024 - mean_absolute_error: 1.3717 - val_loss: 0.6862 - val_mean_absolute_error: 0.7236\n",
            "Epoch 38/80\n",
            "800/800 [==============================] - 0s 47us/step - loss: 2.9867 - mean_absolute_error: 1.4165 - val_loss: 0.2427 - val_mean_absolute_error: 0.4077\n",
            "Epoch 39/80\n",
            "800/800 [==============================] - 0s 53us/step - loss: 1.9420 - mean_absolute_error: 1.1864 - val_loss: 1.8990 - val_mean_absolute_error: 1.3465\n",
            "Epoch 40/80\n",
            "800/800 [==============================] - 0s 49us/step - loss: 3.1125 - mean_absolute_error: 1.4871 - val_loss: 0.1967 - val_mean_absolute_error: 0.3650\n",
            "Epoch 41/80\n",
            "800/800 [==============================] - 0s 59us/step - loss: 2.9288 - mean_absolute_error: 1.4648 - val_loss: 2.0745 - val_mean_absolute_error: 1.4077\n",
            "Epoch 42/80\n",
            "800/800 [==============================] - 0s 47us/step - loss: 2.1258 - mean_absolute_error: 1.2611 - val_loss: 2.5016 - val_mean_absolute_error: 1.5564\n",
            "Epoch 43/80\n",
            "800/800 [==============================] - 0s 48us/step - loss: 2.6452 - mean_absolute_error: 1.4238 - val_loss: 0.3415 - val_mean_absolute_error: 0.4885\n",
            "Epoch 44/80\n",
            "800/800 [==============================] - 0s 53us/step - loss: 2.9895 - mean_absolute_error: 1.5020 - val_loss: 0.9027 - val_mean_absolute_error: 0.8498\n",
            "Epoch 45/80\n",
            "800/800 [==============================] - 0s 52us/step - loss: 2.4545 - mean_absolute_error: 1.2139 - val_loss: 1.8342 - val_mean_absolute_error: 1.3187\n",
            "Epoch 46/80\n",
            "800/800 [==============================] - 0s 53us/step - loss: 1.7576 - mean_absolute_error: 1.0650 - val_loss: 0.2068 - val_mean_absolute_error: 0.3709\n",
            "Epoch 47/80\n",
            "800/800 [==============================] - 0s 48us/step - loss: 4.3446 - mean_absolute_error: 1.7065 - val_loss: 0.5205 - val_mean_absolute_error: 0.6003\n",
            "Epoch 48/80\n",
            "800/800 [==============================] - 0s 47us/step - loss: 0.4277 - mean_absolute_error: 0.5006 - val_loss: 0.2872 - val_mean_absolute_error: 0.4320\n",
            "Epoch 49/80\n",
            "800/800 [==============================] - 0s 48us/step - loss: 3.4181 - mean_absolute_error: 1.5016 - val_loss: 0.1457 - val_mean_absolute_error: 0.3251\n",
            "Epoch 50/80\n",
            "800/800 [==============================] - 0s 53us/step - loss: 1.8525 - mean_absolute_error: 1.1653 - val_loss: 0.8802 - val_mean_absolute_error: 0.8814\n",
            "Epoch 51/80\n",
            "800/800 [==============================] - 0s 55us/step - loss: 3.4270 - mean_absolute_error: 1.6141 - val_loss: 0.2217 - val_mean_absolute_error: 0.3842\n",
            "Epoch 52/80\n",
            "800/800 [==============================] - 0s 48us/step - loss: 0.8611 - mean_absolute_error: 0.7619 - val_loss: 2.6049 - val_mean_absolute_error: 1.5925\n",
            "Epoch 53/80\n",
            "800/800 [==============================] - 0s 52us/step - loss: 3.4729 - mean_absolute_error: 1.4792 - val_loss: 0.6672 - val_mean_absolute_error: 0.7154\n",
            "Epoch 54/80\n",
            "800/800 [==============================] - 0s 47us/step - loss: 2.4551 - mean_absolute_error: 1.2065 - val_loss: 1.9216 - val_mean_absolute_error: 1.3554\n",
            "Epoch 55/80\n",
            "800/800 [==============================] - 0s 47us/step - loss: 2.3381 - mean_absolute_error: 1.3295 - val_loss: 0.4376 - val_mean_absolute_error: 0.5832\n",
            "Epoch 56/80\n",
            "800/800 [==============================] - 0s 49us/step - loss: 2.4768 - mean_absolute_error: 1.3891 - val_loss: 1.3476 - val_mean_absolute_error: 1.1254\n",
            "Epoch 57/80\n",
            "800/800 [==============================] - 0s 51us/step - loss: 2.4665 - mean_absolute_error: 1.3872 - val_loss: 0.1908 - val_mean_absolute_error: 0.3628\n",
            "Epoch 58/80\n",
            "800/800 [==============================] - 0s 45us/step - loss: 2.0975 - mean_absolute_error: 1.2460 - val_loss: 4.9424 - val_mean_absolute_error: 2.2108\n",
            "Epoch 59/80\n",
            "800/800 [==============================] - 0s 57us/step - loss: 2.3654 - mean_absolute_error: 1.1973 - val_loss: 1.8117 - val_mean_absolute_error: 1.2781\n",
            "Epoch 60/80\n",
            "800/800 [==============================] - 0s 55us/step - loss: 2.5206 - mean_absolute_error: 1.1825 - val_loss: 2.0065 - val_mean_absolute_error: 1.3906\n",
            "Epoch 61/80\n",
            "800/800 [==============================] - 0s 60us/step - loss: 2.3307 - mean_absolute_error: 1.3202 - val_loss: 0.1161 - val_mean_absolute_error: 0.2955\n",
            "Epoch 62/80\n",
            "800/800 [==============================] - 0s 54us/step - loss: 2.4774 - mean_absolute_error: 1.3516 - val_loss: 3.8276 - val_mean_absolute_error: 1.9421\n",
            "Epoch 63/80\n",
            "800/800 [==============================] - 0s 49us/step - loss: 1.6721 - mean_absolute_error: 1.0666 - val_loss: 0.1836 - val_mean_absolute_error: 0.3556\n",
            "Epoch 64/80\n",
            "800/800 [==============================] - 0s 53us/step - loss: 3.2836 - mean_absolute_error: 1.5821 - val_loss: 0.1429 - val_mean_absolute_error: 0.3206\n",
            "Epoch 65/80\n",
            "800/800 [==============================] - 0s 55us/step - loss: 1.4425 - mean_absolute_error: 1.0452 - val_loss: 2.3606 - val_mean_absolute_error: 1.5155\n",
            "Epoch 66/80\n",
            "800/800 [==============================] - 0s 49us/step - loss: 2.4203 - mean_absolute_error: 1.3379 - val_loss: 1.1062 - val_mean_absolute_error: 1.0115\n",
            "Epoch 67/80\n",
            "800/800 [==============================] - 0s 50us/step - loss: 2.8261 - mean_absolute_error: 1.4777 - val_loss: 0.5162 - val_mean_absolute_error: 0.6449\n",
            "Epoch 68/80\n",
            "800/800 [==============================] - 0s 48us/step - loss: 1.8509 - mean_absolute_error: 1.1716 - val_loss: 2.3630 - val_mean_absolute_error: 1.5165\n",
            "Epoch 69/80\n",
            "800/800 [==============================] - 0s 47us/step - loss: 2.5011 - mean_absolute_error: 1.3739 - val_loss: 1.0440 - val_mean_absolute_error: 0.9832\n",
            "Epoch 70/80\n",
            "800/800 [==============================] - 0s 51us/step - loss: 2.2029 - mean_absolute_error: 1.3092 - val_loss: 2.9633 - val_mean_absolute_error: 1.7044\n",
            "Epoch 71/80\n",
            "800/800 [==============================] - 0s 53us/step - loss: 2.2712 - mean_absolute_error: 1.2993 - val_loss: 0.2002 - val_mean_absolute_error: 0.3701\n",
            "Epoch 72/80\n",
            "800/800 [==============================] - 0s 50us/step - loss: 2.4722 - mean_absolute_error: 1.3822 - val_loss: 1.0475 - val_mean_absolute_error: 0.9836\n",
            "Epoch 73/80\n",
            "800/800 [==============================] - 0s 49us/step - loss: 2.0636 - mean_absolute_error: 1.2397 - val_loss: 0.3614 - val_mean_absolute_error: 0.5193\n",
            "Epoch 74/80\n",
            "800/800 [==============================] - 0s 56us/step - loss: 2.2199 - mean_absolute_error: 1.2987 - val_loss: 0.7719 - val_mean_absolute_error: 0.8293\n",
            "Epoch 75/80\n",
            "800/800 [==============================] - 0s 53us/step - loss: 2.5862 - mean_absolute_error: 1.4088 - val_loss: 3.0012 - val_mean_absolute_error: 1.7156\n",
            "Epoch 76/80\n",
            "800/800 [==============================] - 0s 52us/step - loss: 1.7817 - mean_absolute_error: 1.1346 - val_loss: 2.0918 - val_mean_absolute_error: 1.4240\n",
            "Epoch 77/80\n",
            "800/800 [==============================] - 0s 54us/step - loss: 2.8980 - mean_absolute_error: 1.4918 - val_loss: 0.5220 - val_mean_absolute_error: 0.6576\n",
            "Epoch 78/80\n",
            "800/800 [==============================] - 0s 49us/step - loss: 2.0076 - mean_absolute_error: 1.2012 - val_loss: 0.4532 - val_mean_absolute_error: 0.5696\n",
            "Epoch 79/80\n",
            "800/800 [==============================] - 0s 56us/step - loss: 2.3680 - mean_absolute_error: 1.2909 - val_loss: 0.1275 - val_mean_absolute_error: 0.3029\n",
            "Epoch 80/80\n",
            "800/800 [==============================] - 0s 47us/step - loss: 1.7793 - mean_absolute_error: 1.1203 - val_loss: 3.5659 - val_mean_absolute_error: 1.8749\n"
          ],
          "name": "stdout"
        },
        {
          "output_type": "display_data",
          "data": {
            "image/png": "[encoded data removed]",
            "text/plain": [
              "<Figure size 748.8x514.8 with 1 Axes>"
            ]
          },
          "metadata": {
            "tags": []
          }
        }
      ]
    },
    {
      "cell_type": "markdown",
      "metadata": {
        "id": "JZ8hDoozVAXC",
        "colab_type": "text"
      },
      "source": [
        "### Now another more complex function\n",
        "\n",
        "Let's try to fit a parabollic function\n",
        "\n",
        "$\\displaystyle y = -2x^2 + x + 1$"
      ]
    },
    {
      "cell_type": "code",
      "metadata": {
        "id": "UXa78u4oBMfy",
        "colab_type": "code",
        "colab": {}
      },
      "source": [
        "x_train = np.linspace(-100, 100, 1000)\n",
        "y_train = -2*x_train**2 + x_train + 1\n",
        "\n",
        "x_test = np.linspace(100.01, 110, 100)\n",
        "y_test = -2*x_test**2 + x_test + 1"
      ],
      "execution_count": 0,
      "outputs": []
    },
    {
      "cell_type": "code",
      "metadata": {
        "id": "78X2RJUvATBq",
        "colab_type": "code",
        "colab": {
          "base_uri": "https://localhost:8080/",
          "height": 466
        },
        "outputId": "06288401-c5ba-4063-c7bc-e9699bef3984"
      },
      "source": [
        "plot(x_train, y_train, 'b')\n",
        "plot(x_test, y_test, 'r')"
      ],
      "execution_count": 74,
      "outputs": [
        {
          "output_type": "execute_result",
          "data": {
            "text/plain": [
              "[<matplotlib.lines.Line2D at 0x7f9e196c7e48>]"
            ]
          },
          "metadata": {
            "tags": []
          },
          "execution_count": 74
        },
        {
          "output_type": "display_data",
          "data": {
            "image/png": "[encoded data removed]",
            "text/plain": [
              "<Figure size 748.8x514.8 with 1 Axes>"
            ]
          },
          "metadata": {
            "tags": []
          }
        }
      ]
    },
    {
      "cell_type": "markdown",
      "metadata": {
        "id": "Ds-qcp4_DzB4",
        "colab_type": "text"
      },
      "source": [
        "Los valores de x e y son un poco locos. Mejor normalizar los valores para que los pesos no tengan que responder a algo que esta entre -25000 y 0. "
      ]
    },
    {
      "cell_type": "code",
      "metadata": {
        "id": "yMivjijMES6o",
        "colab_type": "code",
        "colab": {
          "base_uri": "https://localhost:8080/",
          "height": 466
        },
        "outputId": "ca964196-2ba5-43b2-ac38-aca2b4c5c15c"
      },
      "source": [
        "x_train_min = x_train.min()\n",
        "x_train_max = x_train.max()\n",
        "\n",
        "y_train_min = y_train.min()\n",
        "y_train_max = y_train.max()\n",
        "\n",
        "x_train_scaled = (x_train - x_train_min) / (x_train_max - x_train_min)\n",
        "y_train_scaled = (y_train - y_train_min) / (y_train_max - y_train_min)\n",
        "\n",
        "#Ojo, para el test usamos la escala ya calculada, si no, la liamos\n",
        "x_test_scaled = (x_test - x_train_min) / (x_train_max - x_train_min)\n",
        "y_test_scaled = (y_test - y_train_min) / (y_train_max - y_train_min)\n",
        "\n",
        "plot(x_train_scaled, y_train_scaled, 'b')\n",
        "plot(x_test_scaled, y_test_scaled, 'r')"
      ],
      "execution_count": 75,
      "outputs": [
        {
          "output_type": "execute_result",
          "data": {
            "text/plain": [
              "[<matplotlib.lines.Line2D at 0x7f9e19633a20>]"
            ]
          },
          "metadata": {
            "tags": []
          },
          "execution_count": 75
        },
        {
          "output_type": "display_data",
          "data": {
            "image/png": "[encoded data removed]",
            "text/plain": [
              "<Figure size 748.8x514.8 with 1 Axes>"
            ]
          },
          "metadata": {
            "tags": []
          }
        }
      ]
    },
    {
      "cell_type": "code",
      "metadata": {
        "id": "2dVwhrVnVAXD",
        "colab_type": "code",
        "colab": {
          "base_uri": "https://localhost:8080/",
          "height": 289
        },
        "outputId": "41f50b5c-d824-41d7-a72e-d1c8216ce7fb"
      },
      "source": [
        "nn = create_nn('elu',optimizers.rmsprop(),losses.mean_squared_error,[metrics.mae],64,32,16)"
      ],
      "execution_count": 93,
      "outputs": [
        {
          "output_type": "stream",
          "text": [
            "Model: \"sequential_22\"\n",
            "_________________________________________________________________\n",
            "Layer (type)                 Output Shape              Param #   \n",
            "=================================================================\n",
            "dense_72 (Dense)             (None, 64)                128       \n",
            "_________________________________________________________________\n",
            "dense_73 (Dense)             (None, 32)                2080      \n",
            "_________________________________________________________________\n",
            "dense_74 (Dense)             (None, 16)                528       \n",
            "_________________________________________________________________\n",
            "dense_75 (Dense)             (None, 1)                 17        \n",
            "=================================================================\n",
            "Total params: 2,753\n",
            "Trainable params: 2,753\n",
            "Non-trainable params: 0\n",
            "_________________________________________________________________\n"
          ],
          "name": "stdout"
        }
      ]
    },
    {
      "cell_type": "code",
      "metadata": {
        "id": "hiPFJqgKF5Ve",
        "colab_type": "code",
        "colab": {
          "base_uri": "https://localhost:8080/",
          "height": 481
        },
        "outputId": "ddf0e0cb-e263-4ed5-ca76-869f11b34187"
      },
      "source": [
        "  history = model.fit(x_train_scaled,y_train_scaled,batch_size=200,epochs=150,validation_split=0.2,verbose=0)\n",
        "  plot_metric(history,'loss')"
      ],
      "execution_count": 94,
      "outputs": [
        {
          "output_type": "display_data",
          "data": {
            "image/png": "[encoded data removed]",
            "text/plain": [
              "<Figure size 748.8x514.8 with 1 Axes>"
            ]
          },
          "metadata": {
            "tags": []
          }
        }
      ]
    },
    {
      "cell_type": "markdown",
      "metadata": {
        "id": "h9kiEf7BGJkm",
        "colab_type": "text"
      },
      "source": [
        ""
      ]
    },
    {
      "cell_type": "code",
      "metadata": {
        "id": "DVJ1QK5qGKOO",
        "colab_type": "code",
        "colab": {
          "base_uri": "https://localhost:8080/",
          "height": 449
        },
        "outputId": "a04964f1-73d7-4efb-acba-aedffd671966"
      },
      "source": [
        "y_hat_scaled = nn.predict(x_test_scaled)\n",
        "plt.plot(x_train_scaled,y_train_scaled,'r')\n",
        "plt.plot(x_test_scaled,y_test_scaled,'b')\n",
        "plt.plot(x_test_scaled,y_hat_scaled,'--g')\n",
        "plt.show()"
      ],
      "execution_count": 95,
      "outputs": [
        {
          "output_type": "display_data",
          "data": {
            "image/png": "[encoded data removed]",
            "text/plain": [
              "<Figure size 748.8x514.8 with 1 Axes>"
            ]
          },
          "metadata": {
            "tags": []
          }
        }
      ]
    },
    {
      "cell_type": "markdown",
      "metadata": {
        "id": "VQBQWk8OVAXE",
        "colab_type": "text"
      },
      "source": [
        "### And now even a more complex one\n",
        "\n",
        "Let's try to predict now this function:\n",
        "\n",
        "$\\displaystyle y = \\cos(x)$"
      ]
    },
    {
      "cell_type": "code",
      "metadata": {
        "id": "Ocgs_gpbVAXF",
        "colab_type": "code",
        "colab": {}
      },
      "source": [
        ""
      ],
      "execution_count": 0,
      "outputs": []
    }
  ]
}